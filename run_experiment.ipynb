{
 "cells": [
  {
   "cell_type": "code",
   "execution_count": 1,
   "id": "a4ea81c1-ba85-44c6-924b-19360cc6f486",
   "metadata": {},
   "outputs": [
    {
     "name": "stdout",
     "output_type": "stream",
     "text": [
      "pygame 2.5.2 (SDL 2.28.3, Python 3.11.7)\n",
      "Hello from the pygame community. https://www.pygame.org/contribute.html\n"
     ]
    }
   ],
   "source": [
    "from project_functions.audio_preprocessing import *\n",
    "from project_functions.paradigm_functions import *"
   ]
  },
  {
   "cell_type": "markdown",
   "id": "06dac996-f42b-492e-ac58-308557b6ae14",
   "metadata": {},
   "source": [
    "### Load stimuli and run"
   ]
  },
  {
   "cell_type": "code",
   "execution_count": 2,
   "id": "dd35282d-9323-49e9-ae80-01af9a26352f",
   "metadata": {},
   "outputs": [],
   "source": [
    "n_sessions = 8\n",
    "processed_path = 'Sound_files/processed'\n",
    "\n",
    "experiment_stimuli = create_experiment_stimuli(n_sessions, processed_path, seed=42)"
   ]
  },
  {
   "cell_type": "code",
   "execution_count": 3,
   "id": "23e74c93-a898-4412-a43d-5bcc0c17c935",
   "metadata": {
    "scrolled": true
   },
   "outputs": [
    {
     "name": "stdout",
     "output_type": "stream",
     "text": [
      "Session finished\n"
     ]
    },
    {
     "ename": "KeyboardInterrupt",
     "evalue": "",
     "output_type": "error",
     "traceback": [
      "\u001b[1;31m---------------------------------------------------------------------------\u001b[0m",
      "\u001b[1;31mKeyboardInterrupt\u001b[0m                         Traceback (most recent call last)",
      "Cell \u001b[1;32mIn[3], line 1\u001b[0m\n\u001b[1;32m----> 1\u001b[0m run_experiment(experiment_stimuli)\n",
      "File \u001b[1;32mE:\\projects\\covert_consciousness\\project_functions\\paradigm_functions.py:53\u001b[0m, in \u001b[0;36mrun_experiment\u001b[1;34m(stimuli)\u001b[0m\n\u001b[0;32m     49\u001b[0m start \u001b[38;5;241m=\u001b[39m get_user_input(\u001b[38;5;124m\"\u001b[39m\u001b[38;5;124msession\u001b[39m\u001b[38;5;124m\"\u001b[39m)\n\u001b[0;32m     50\u001b[0m \u001b[38;5;66;03m#start = False\u001b[39;00m\n\u001b[0;32m     51\u001b[0m \u001b[38;5;66;03m#while not start:\u001b[39;00m\n\u001b[0;32m     52\u001b[0m \u001b[38;5;66;03m#    start = get_user_input(\"session\")\u001b[39;00m\n\u001b[1;32m---> 53\u001b[0m stim_times \u001b[38;5;241m=\u001b[39m run_session(stimulus_set[\u001b[38;5;124m'\u001b[39m\u001b[38;5;124mstimuli\u001b[39m\u001b[38;5;124m'\u001b[39m], stimulus_set[\u001b[38;5;124m'\u001b[39m\u001b[38;5;124mtriggers\u001b[39m\u001b[38;5;124m'\u001b[39m])\n",
      "File \u001b[1;32mE:\\projects\\covert_consciousness\\project_functions\\paradigm_functions.py:79\u001b[0m, in \u001b[0;36mrun_session\u001b[1;34m(stimuli, triggers)\u001b[0m\n\u001b[0;32m     76\u001b[0m responses \u001b[38;5;241m=\u001b[39m []  \u001b[38;5;66;03m# List to store all click responses\u001b[39;00m\n\u001b[0;32m     77\u001b[0m max_response_end_time \u001b[38;5;241m=\u001b[39m start_time \u001b[38;5;241m+\u001b[39m datetime\u001b[38;5;241m.\u001b[39mtimedelta(seconds\u001b[38;5;241m=\u001b[39m\u001b[38;5;241m8\u001b[39m)\n\u001b[1;32m---> 79\u001b[0m \u001b[38;5;28;01mwhile\u001b[39;00m pygame\u001b[38;5;241m.\u001b[39mmixer\u001b[38;5;241m.\u001b[39mmusic\u001b[38;5;241m.\u001b[39mget_busy() \u001b[38;5;129;01mand\u001b[39;00m datetime\u001b[38;5;241m.\u001b[39mdatetime\u001b[38;5;241m.\u001b[39mnow() \u001b[38;5;241m<\u001b[39m\u001b[38;5;241m=\u001b[39m max_response_end_time:\n\u001b[0;32m     80\u001b[0m     \u001b[38;5;241m1\u001b[39m\n\u001b[0;32m     81\u001b[0m \u001b[38;5;250m    \u001b[39m\u001b[38;5;124;03m'''\u001b[39;00m\n\u001b[0;32m     82\u001b[0m \u001b[38;5;124;03m    # look for responses while stimulus is playing\u001b[39;00m\n\u001b[0;32m     83\u001b[0m \u001b[38;5;124;03m    if event.button == 1:  # Left click for 'yes'\u001b[39;00m\n\u001b[1;32m   (...)\u001b[0m\n\u001b[0;32m     86\u001b[0m \u001b[38;5;124;03m        send_trigger(2)  # Send trigger for 'no' click\u001b[39;00m\n\u001b[0;32m     87\u001b[0m \u001b[38;5;124;03m    '''\u001b[39;00m\n",
      "\u001b[1;31mKeyboardInterrupt\u001b[0m: "
     ]
    }
   ],
   "source": [
    "run_experiment(experiment_stimuli)"
   ]
  },
  {
   "cell_type": "code",
   "execution_count": null,
   "id": "50399133-cf14-48de-aa38-99b157bdf3f8",
   "metadata": {},
   "outputs": [],
   "source": []
  }
 ],
 "metadata": {
  "kernelspec": {
   "display_name": "Python 3 (ipykernel)",
   "language": "python",
   "name": "python3"
  },
  "language_info": {
   "codemirror_mode": {
    "name": "ipython",
    "version": 3
   },
   "file_extension": ".py",
   "mimetype": "text/x-python",
   "name": "python",
   "nbconvert_exporter": "python",
   "pygments_lexer": "ipython3",
   "version": "3.11.7"
  }
 },
 "nbformat": 4,
 "nbformat_minor": 5
}
