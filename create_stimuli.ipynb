{
 "cells": [
  {
   "cell_type": "code",
   "execution_count": 1,
   "id": "b60ac286-06ba-436d-b0f0-7c4eec1bd10b",
   "metadata": {},
   "outputs": [
    {
     "name": "stdout",
     "output_type": "stream",
     "text": [
      "pygame 2.5.2 (SDL 2.28.3, Python 3.11.7)\n",
      "Hello from the pygame community. https://www.pygame.org/contribute.html\n"
     ]
    }
   ],
   "source": [
    "from project_functions.audio_preprocessing import *\n",
    "from project_functions.paradigm_functions import *"
   ]
  },
  {
   "cell_type": "markdown",
   "id": "3d587bbd-fc80-42d3-b703-2aa95aa03a9b",
   "metadata": {},
   "source": [
    "## Preprocess audio recordings"
   ]
  },
  {
   "cell_type": "code",
   "execution_count": 2,
   "id": "7bb66df7-b7c4-478f-9f48-93016316de0c",
   "metadata": {},
   "outputs": [],
   "source": [
    "processed_path = 'E:/projects/covert_consciousness/Sound_files/processed'\n",
    "raw_path = 'E:/projects/covert_consciousness/Sound_files/raw'"
   ]
  },
  {
   "cell_type": "code",
   "execution_count": 3,
   "id": "07ac2852-ed21-46c1-bf59-1b076e0a8099",
   "metadata": {},
   "outputs": [
    {
     "data": {
      "text/plain": [
       "' \\n# Only run if files in F2 are misnamed \\n## Sort raw exports into correct folders\\nimport os\\n\\ndef rename_files(directory):\\n    \"\"\"Renames WAV files in the given directory.\\n\\n    Args:\\n        directory: The path to the directory containing the WAV files.\\n    \"\"\"\\n    for filename in os.listdir(directory):\\n        if filename.endswith(\".wav\"):\\n            new_filename = filename.replace(\"-\", \" \")\\n            os.rename(os.path.join(directory, filename), os.path.join(directory, new_filename))\\n\\nrename_files(raw_path+r\\'\\\\F2\\')\\n\\n# boost volume on F2 action command\\naction_2, sr = librosa.load(raw_path + \\'/action_commands/F2 1.wav\\', sr=None)\\nsf.write(raw_path + \\'/action_commands/F2 1.wav\\', action_2*20, sr)'"
      ]
     },
     "execution_count": 3,
     "metadata": {},
     "output_type": "execute_result"
    }
   ],
   "source": [
    "''' \n",
    "# Only run if files in F2 are misnamed \n",
    "## Sort raw exports into correct folders\n",
    "import os\n",
    "\n",
    "def rename_files(directory):\n",
    "    \"\"\"Renames WAV files in the given directory.\n",
    "\n",
    "    Args:\n",
    "        directory: The path to the directory containing the WAV files.\n",
    "    \"\"\"\n",
    "    for filename in os.listdir(directory):\n",
    "        if filename.endswith(\".wav\"):\n",
    "            new_filename = filename.replace(\"-\", \" \")\n",
    "            os.rename(os.path.join(directory, filename), os.path.join(directory, new_filename))\n",
    "\n",
    "rename_files(raw_path+r'\\F2')\n",
    "\n",
    "# boost volume on F2 action command\n",
    "action_2, sr = librosa.load(raw_path + '/action_commands/F2 1.wav', sr=None)\n",
    "sf.write(raw_path + '/action_commands/F2 1.wav', action_2*20, sr)\n",
    "'''"
   ]
  },
  {
   "cell_type": "markdown",
   "id": "ed23f754-5040-47e3-9174-3eb20f76c1db",
   "metadata": {},
   "source": [
    "### Action commands"
   ]
  },
  {
   "cell_type": "code",
   "execution_count": 4,
   "id": "e1f46e2d-d604-42b1-ba4c-96fa46f2032d",
   "metadata": {},
   "outputs": [],
   "source": [
    "organize_action_stimuli(raw_path, processed_path)\n"
   ]
  },
  {
   "cell_type": "markdown",
   "id": "f4265358-cc68-44bf-aac2-0f6a1f0e1ff7",
   "metadata": {},
   "source": [
    "### Semantic stimuli"
   ]
  },
  {
   "cell_type": "code",
   "execution_count": 7,
   "id": "47d2c91d-67cc-4342-a60d-05987bc972ba",
   "metadata": {},
   "outputs": [
    {
     "name": "stderr",
     "output_type": "stream",
     "text": [
      "Processing raw files from F1: 100%|█████████████████████████████████████████████████████████████████████████████████████| 95/95 [00:14<00:00,  6.43it/s]\n",
      "Processing raw files from F2: 100%|█████████████████████████████████████████████████████████████████████████████████████| 95/95 [00:15<00:00,  6.15it/s]\n",
      "Processing raw files from F3: 100%|█████████████████████████████████████████████████████████████████████████████████████| 95/95 [00:15<00:00,  6.16it/s]\n",
      "Processing raw files from F4: 100%|█████████████████████████████████████████████████████████████████████████████████████| 95/95 [00:15<00:00,  6.05it/s]\n",
      "Processing raw files from F6: 0it [00:00, ?it/s]\n",
      "Processing raw files from M1: 100%|█████████████████████████████████████████████████████████████████████████████████████| 95/95 [00:16<00:00,  5.79it/s]\n",
      "Processing raw files from M2: 100%|█████████████████████████████████████████████████████████████████████████████████████| 95/95 [00:16<00:00,  5.89it/s]\n",
      "Processing raw files from M3: 100%|█████████████████████████████████████████████████████████████████████████████████████| 95/95 [00:13<00:00,  6.94it/s]\n",
      "Processing raw files from M4: 100%|█████████████████████████████████████████████████████████████████████████████████████| 95/95 [00:15<00:00,  6.29it/s]\n"
     ]
    }
   ],
   "source": [
    "organize_semantic_stimuli(raw_path, processed_path)"
   ]
  },
  {
   "cell_type": "markdown",
   "id": "bc523591-bbad-4a0b-9553-198b7efecbc9",
   "metadata": {},
   "source": [
    "### Beep break stimuli"
   ]
  },
  {
   "cell_type": "code",
   "execution_count": 8,
   "id": "274224c9-6729-48dc-be9d-0ad7bae86a84",
   "metadata": {},
   "outputs": [],
   "source": [
    "organize_beep_block_stimuli(processed_path) \n"
   ]
  },
  {
   "cell_type": "markdown",
   "id": "4489f419-3725-45df-a055-b3f220f0a7c0",
   "metadata": {},
   "source": [
    "### Create \"silent\" stimulus"
   ]
  },
  {
   "cell_type": "code",
   "execution_count": 9,
   "id": "2e702841-0472-4559-a756-fd956d790e37",
   "metadata": {},
   "outputs": [],
   "source": [
    "organize_silent_stimuli(processed_path) "
   ]
  }
 ],
 "metadata": {
  "kernelspec": {
   "display_name": "Python 3 (ipykernel)",
   "language": "python",
   "name": "python3"
  },
  "language_info": {
   "codemirror_mode": {
    "name": "ipython",
    "version": 3
   },
   "file_extension": ".py",
   "mimetype": "text/x-python",
   "name": "python",
   "nbconvert_exporter": "python",
   "pygments_lexer": "ipython3",
   "version": "3.11.7"
  }
 },
 "nbformat": 4,
 "nbformat_minor": 5
}
